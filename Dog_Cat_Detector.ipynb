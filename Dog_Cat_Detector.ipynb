{
 "cells": [
  {
   "cell_type": "markdown",
   "metadata": {},
   "source": [
    "# First Step: Import the necessary libraries"
   ]
  },
  {
   "cell_type": "code",
   "execution_count": 1,
   "metadata": {},
   "outputs": [],
   "source": [
    "from keras.preprocessing.image import ImageDataGenerator\n",
    "from keras.preprocessing import image\n",
    "from keras.applications import imagenet_utils, vgg16, mobilenet\n",
    "from keras.optimizers import Adam, SGD\n",
    "from keras.metrics import categorical_crossentropy\n",
    "from keras.layers import Dense, Flatten, Dropout, BatchNormalization\n",
    "from keras.models import Model\n",
    "from sklearn.metrics import confusion_matrix\n",
    "# File Transaction\n",
    "import os\n",
    "from shutil import copyfile\n",
    "import math\n",
    "import random\n",
    "\n",
    "# Image Preprocessing\n",
    "from PIL import Image\n",
    "\n",
    "import itertools\n",
    "import matplotlib.pyplot as plt\n",
    "%matplotlib inline"
   ]
  },
  {
   "cell_type": "markdown",
   "metadata": {},
   "source": [
    "# Getting Data  And Dividing"
   ]
  },
  {
   "cell_type": "code",
   "execution_count": 2,
   "metadata": {},
   "outputs": [
    {
     "name": "stdout",
     "output_type": "stream",
     "text": [
      "12501\n",
      "12501\n"
     ]
    }
   ],
   "source": [
    "base_dir = 'C:/Users/Mucahit BAYAR/Document/Deep Learning/Transfer_Learning/PetImages' # Own Rotations\n",
    "print(len(os.listdir(base_dir+'/Cat/'))) # Cat Folder\n",
    "print(len(os.listdir(base_dir+'/Dog/'))) # Dog Folder"
   ]
  },
  {
   "cell_type": "code",
   "execution_count": 3,
   "metadata": {},
   "outputs": [
    {
     "name": "stdout",
     "output_type": "stream",
     "text": [
      "['Cat', 'Dog']\n"
     ]
    }
   ],
   "source": [
    "print(os.listdir(base_dir)) # Title Of DataSet"
   ]
  },
  {
   "cell_type": "code",
   "execution_count": 4,
   "metadata": {},
   "outputs": [],
   "source": [
    "classes = os.listdir(base_dir) # Passing Titles To Variables Named Classes"
   ]
  },
  {
   "cell_type": "code",
   "execution_count": 5,
   "metadata": {},
   "outputs": [
    {
     "data": {
      "text/plain": [
       "['Cat', 'Dog']"
      ]
     },
     "execution_count": 5,
     "metadata": {},
     "output_type": "execute_result"
    }
   ],
   "source": [
    "classes"
   ]
  },
  {
   "cell_type": "code",
   "execution_count": 7,
   "metadata": {},
   "outputs": [
    {
     "name": "stdout",
     "output_type": "stream",
     "text": [
      "['C:/Users/Mucahit BAYAR/Document/Deep Learning/Transfer_Learning/PetImages/Cat', 'C:/Users/Mucahit BAYAR/Document/Deep Learning/Transfer_Learning/PetImages/Dog']\n"
     ]
    }
   ],
   "source": [
    "source_path = [f'C:/Users/Mucahit BAYAR/Document/Deep Learning/Transfer_Learning/PetImages/{a}' for a in classes] # Assigning List That Folder OF within Dataset to Array . \n",
    "print(source_path)"
   ]
  },
  {
   "cell_type": "code",
   "execution_count": 8,
   "metadata": {},
   "outputs": [
    {
     "data": {
      "text/plain": [
       "['Cat_dir', 'Dog_dir']"
      ]
     },
     "execution_count": 8,
     "metadata": {},
     "output_type": "execute_result"
    }
   ],
   "source": [
    "classes_dir=[f'{a}_dir' for a in classes] # We got two folders such as Dog and Cat, In this snippet we have maden name of file.\n",
    "classes_dir"
   ]
  },
  {
   "cell_type": "code",
   "execution_count": 9,
   "metadata": {},
   "outputs": [
    {
     "name": "stdout",
     "output_type": "stream",
     "text": [
      "Cat_dir :  12501\n",
      "Dog_dir :  12501\n"
     ]
    }
   ],
   "source": [
    "for cl_dir, cl_path in zip(classes_dir, source_path): # Viewing length of files within DataSet\n",
    "    print(cl_dir,': ',len(os.listdir(cl_path)))"
   ]
  },
  {
   "cell_type": "code",
   "execution_count": 10,
   "metadata": {},
   "outputs": [],
   "source": [
    "# ERROR-CHECKING\n",
    "try:\n",
    "    os.mkdir('C:/Users/Mucahit BAYAR/Document/Deep Learning/Transfer_Learning/training')\n",
    "    os.mkdir('C:/Users/Mucahit BAYAR/Document/Deep Learning/Transfer_Learning/validation')\n",
    "    os.mkdir('C:/Users/Mucahit BAYAR/Document/Deep Learning/Transfer_Learning/testing')\n",
    "except OSError:\n",
    "    pass"
   ]
  },
  {
   "cell_type": "code",
   "execution_count": 11,
   "metadata": {},
   "outputs": [
    {
     "name": "stdout",
     "output_type": "stream",
     "text": [
      "\n",
      " ['C:/Users/Mucahit BAYAR/Document/Deep Learning/Transfer_Learning/training/Cat', 'C:/Users/Mucahit BAYAR/Document/Deep Learning/Transfer_Learning/training/Dog']\n",
      "\n",
      " ['C:/Users/Mucahit BAYAR/Document/Deep Learning/Transfer_Learning/validation/Cat', 'C:/Users/Mucahit BAYAR/Document/Deep Learning/Transfer_Learning/validation/Dog']\n",
      "\n",
      " ['C:/Users/Mucahit BAYAR/Document/Deep Learning/Transfer_Learning/testing/Cat', 'C:/Users/Mucahit BAYAR/Document/Deep Learning/Transfer_Learning/testing/Dog']\n"
     ]
    }
   ],
   "source": [
    "TRAINING_PATH= 'C:/Users/Mucahit BAYAR/Document/Deep Learning/Transfer_Learning/training' # Path Of Training folder\n",
    "VALIDATION_PATH= 'C:/Users/Mucahit BAYAR/Document/Deep Learning/Transfer_Learning/validation' # Path Of Validating Folder\n",
    "training_dir_path=[f'C:/Users/Mucahit BAYAR/Document/Deep Learning/Transfer_Learning/training/{a}' for a in classes] # Opened Folders up with in training folder such as Dog And Cat.\n",
    "print('\\n',training_dir_path)\n",
    "validation_dir_path=[f'C:/Users/Mucahit BAYAR/Document/Deep Learning/Transfer_Learning/validation/{a}' for a in classes] # Opened Folders up with in validating folder such as Dog And Cat.\n",
    "print('\\n',validation_dir_path)\n",
    "testing_dir_path=[f'C:/Users/Mucahit BAYAR/Document/Deep Learning/Transfer_Learning/testing/{a}' for a in classes] # Opened Folders up with in testing folder such as Dog And Cat.\n",
    "print('\\n',testing_dir_path)"
   ]
  },
  {
   "cell_type": "code",
   "execution_count": 12,
   "metadata": {},
   "outputs": [],
   "source": [
    "# ERROR CHECKING\n",
    "for train_dir_path in training_dir_path:\n",
    "    try:\n",
    "        os.mkdir(train_dir_path)\n",
    "    except OSError:\n",
    "        pass"
   ]
  },
  {
   "cell_type": "code",
   "execution_count": 13,
   "metadata": {},
   "outputs": [],
   "source": [
    "# ERROR CHECKING\n",
    "for val_dir_path in validation_dir_path:\n",
    "    try:\n",
    "        os.mkdir(val_dir_path)\n",
    "    except OSError:\n",
    "        pass"
   ]
  },
  {
   "cell_type": "code",
   "execution_count": 14,
   "metadata": {},
   "outputs": [],
   "source": [
    "# ERROR CHECKING\n",
    "for test_dir_path in testing_dir_path:\n",
    "    try:\n",
    "        os.mkdir(test_dir_path)\n",
    "    except OSError:\n",
    "        pass"
   ]
  },
  {
   "cell_type": "code",
   "execution_count": 15,
   "metadata": {},
   "outputs": [],
   "source": [
    "def split_data(SOURCE, TRAINING, VALIDATION, TESTING, SPLIT_SIZE): # We got four variables to any processing.\n",
    "    files = []\n",
    "    print('Split Data')\n",
    "    for filename in os.listdir(SOURCE):# traveling within Source folder.\n",
    "        file = SOURCE + '/'+ filename # Adding any  folder that what that has Current name.\n",
    "        if os.path.getsize(file) > 0: # If File has size is greater than zero\n",
    "            files.append(filename) # adding folder to  within the another folder\n",
    "        else: # Size equal zero\n",
    "            print(filename + \"is zero length, so ignoring.\")\n",
    "            \n",
    "    training_length = int( len(files)* SPLIT_SIZE) # Adjusting length Of training dataset\n",
    "    validation_length = int(len(files) * 0.10) # Adjusting length Of validation dataset\n",
    "    testing_length = int(len(files) - training_length - validation_length) #Adjusting length Of training dataset\n",
    "    \n",
    "    # Viewing\n",
    "    print('SOURCE: ', SOURCE, '\\n TRAINING', TRAINING, '\\n VALIDATION',VALIDATION, '\\n ',len(files))\n",
    "    print('training_lenght:', training_length)\n",
    "    print('validation_length:',validation_length)\n",
    "    print('testing_length: ',testing_length)\n",
    "    \n",
    "    #Assignin Size Processing\n",
    "    shuffled_Set = random.sample(files, len(files))\n",
    "    training_set = shuffled_Set[0:training_length]\n",
    "    validation_set = shuffled_Set[training_length:(training_length+validation_length)]\n",
    "    testing_set = shuffled_Set[:testing_length]\n",
    "    \n",
    "    print(len(training_set))\n",
    "    print(len(validation_set))\n",
    "    print(len(testing_set))\n",
    "    \n",
    "    # Set Data to Relatively Folder\n",
    "    for filename in training_set:\n",
    "        this_file = SOURCE + '/'+ filename\n",
    "        destination = TRAINING +'/'+ filename\n",
    "        copyfile(this_file, destination)\n",
    "        \n",
    "    for filename in validation_set:\n",
    "        this_file= SOURCE +'/'+ filename\n",
    "        destination = VALIDATION+'/'+filename\n",
    "        copyfile(this_file, destination)\n",
    "    for filename in testing_set:\n",
    "        this_file = source +'/'+ filename\n",
    "        destination = TESTING + '/' + filename\n",
    "        copyfile(this_file, destination)\n",
    "   "
   ]
  },
  {
   "cell_type": "code",
   "execution_count": 54,
   "metadata": {},
   "outputs": [
    {
     "name": "stdout",
     "output_type": "stream",
     "text": [
      "Split Data\n",
      ".ipynb_checkpointsis zero length, so ignoring.\n",
      "666.jpgis zero length, so ignoring.\n",
      "SOURCE:  C:/Users/Mucahit BAYAR/Document/Deep Learning/Transfer_Learning/PetImages/Cat \n",
      " TRAINING C:/Users/Mucahit BAYAR/Document/Deep Learning/Transfer_Learning/training/Cat \n",
      " VALIDATION C:/Users/Mucahit BAYAR/Document/Deep Learning/Transfer_Learning/validation/Cat \n",
      "  12500\n",
      "training_lenght: 10625\n",
      "validation_length: 1250\n",
      "testing_length:  625\n",
      "10625\n",
      "1250\n",
      "625\n",
      "Splitting \n",
      "\n",
      "Split Data\n",
      "11702.jpgis zero length, so ignoring.\n",
      "SOURCE:  C:/Users/Mucahit BAYAR/Document/Deep Learning/Transfer_Learning/PetImages/Dog \n",
      " TRAINING C:/Users/Mucahit BAYAR/Document/Deep Learning/Transfer_Learning/training/Dog \n",
      " VALIDATION C:/Users/Mucahit BAYAR/Document/Deep Learning/Transfer_Learning/validation/Dog \n",
      "  12500\n",
      "training_lenght: 10625\n",
      "validation_length: 1250\n",
      "testing_length:  625\n",
      "10625\n",
      "1250\n",
      "625\n",
      "Splitting \n",
      "\n"
     ]
    }
   ],
   "source": [
    "split_size = .85 # Ratio Of Split Size\n",
    "for source, train_dir_path, val_dir_path, test_dir_path in zip(source_path,training_dir_path, validation_dir_path, testing_dir_path): # Rooting within folder\n",
    "    split_data(source, train_dir_path,val_dir_path, test_dir_path, split_size) # Starting function by Assigning Variables\n",
    "    print('Splitting \\n')"
   ]
  },
  {
   "cell_type": "markdown",
   "metadata": {},
   "source": [
    "# Second Step : Data Preprocessing"
   ]
  },
  {
   "cell_type": "markdown",
   "metadata": {},
   "source": [
    "# Training Data Set"
   ]
  },
  {
   "cell_type": "markdown",
   "metadata": {},
   "source": [
    "### Cat"
   ]
  },
  {
   "cell_type": "code",
   "execution_count": 245,
   "metadata": {},
   "outputs": [],
   "source": [
    "cat_train_dir = r\"training/Cat\"\n",
    "\n",
    "for file in os.listdir(cat_train_dir):\n",
    "    cat_train_img = cat_train_dir+\"/\"+file\n",
    "    img = Image.open(cat_train_img)\n",
    "    Image.open(cat_train_img).convert('RGB').save(cat_train_img)"
   ]
  },
  {
   "cell_type": "code",
   "execution_count": 236,
   "metadata": {},
   "outputs": [],
   "source": [
    "for file in os.listdir(cat_train_dir):\n",
    "    cat_train_img = cat_train_dir+\"/\"+file\n",
    "    img = Image.open(cat_train_img)\n",
    "    img = img.resize((300,300))\n",
    "    img.save(cat_train_img)"
   ]
  },
  {
   "cell_type": "markdown",
   "metadata": {},
   "source": [
    "### Dog"
   ]
  },
  {
   "cell_type": "code",
   "execution_count": null,
   "metadata": {},
   "outputs": [],
   "source": [
    "dog_train_dir = r\"training/Dog\"\n",
    "\n",
    "for file in os.listdir(dog_train_dir):\n",
    "    dog_train_img = dog_train_dir+\"/\"+file\n",
    "    img = Image.open(dog_train_img)"
   ]
  },
  {
   "cell_type": "code",
   "execution_count": null,
   "metadata": {},
   "outputs": [],
   "source": [
    "for file in os.listdir(dog_train_dir):\n",
    "    dog_train_img = dog_train_dir+\"/\"+file\n",
    "    img = Image.open(dog_train_img)\n",
    "    img = img.resize((300,300))\n",
    "    img.save(dog_train_img)"
   ]
  },
  {
   "cell_type": "markdown",
   "metadata": {},
   "source": [
    "# Test"
   ]
  },
  {
   "cell_type": "markdown",
   "metadata": {},
   "source": [
    "### Cat"
   ]
  },
  {
   "cell_type": "code",
   "execution_count": null,
   "metadata": {},
   "outputs": [],
   "source": [
    "cat_test_dir = r\"testing/Cat\"\n",
    "\n",
    "for file in os.listdir(cat_test_dir):\n",
    "    cat_test_img = cat_test_dir+\"/\"+file\n",
    "    img = Image.open(cat_test_img)\n",
    "    Image.open(cat_test_img).convert('RGB').save(cat_test_img)"
   ]
  },
  {
   "cell_type": "code",
   "execution_count": null,
   "metadata": {},
   "outputs": [],
   "source": [
    "for file in os.listdir(cat_train_dir):\n",
    "    cat_train_img = cat_train_dir+\"/\"+file\n",
    "    img = Image.open(cat_train_img)\n",
    "    img = img.resize((300,300))\n",
    "    img.save(cat_train_img)"
   ]
  },
  {
   "cell_type": "markdown",
   "metadata": {},
   "source": [
    "### Dog"
   ]
  },
  {
   "cell_type": "code",
   "execution_count": null,
   "metadata": {},
   "outputs": [],
   "source": [
    "dog_test_dir = r\"testing/Dog\"\n",
    "\n",
    "for file in os.listdir(dog_test_dir):\n",
    "    dog_test_img = dog_test_dir+\"/\"+file\n",
    "    img = Image.open(dog_test_img)"
   ]
  },
  {
   "cell_type": "code",
   "execution_count": null,
   "metadata": {},
   "outputs": [],
   "source": [
    "for file in os.listdir(dog_test_dir):\n",
    "    dog_test_img = dog_test_dir+\"/\"+file\n",
    "    img = Image.open(dog_test_img)\n",
    "    img = img.resize((300,300))\n",
    "    img.save(dog_test_img)"
   ]
  },
  {
   "cell_type": "markdown",
   "metadata": {},
   "source": [
    "# Validation"
   ]
  },
  {
   "cell_type": "markdown",
   "metadata": {},
   "source": [
    "### Cat"
   ]
  },
  {
   "cell_type": "code",
   "execution_count": null,
   "metadata": {},
   "outputs": [],
   "source": [
    "cat_val_dir = r\"validation/Cat\"\n",
    "\n",
    "for file in os.listdir(cat_val_dir):\n",
    "    cat_val_img = cat_val_dir+\"/\"+file\n",
    "    img = Image.open(cat_val_img)\n",
    "    Image.open(cat_val_img).convert('RGB').save(cat_val_img)"
   ]
  },
  {
   "cell_type": "code",
   "execution_count": null,
   "metadata": {},
   "outputs": [],
   "source": [
    "for file in os.listdir(cat_val_dir):\n",
    "    cat_val_img = cat_val_dir+\"/\"+file\n",
    "    img = Image.open(cat_val_img)\n",
    "    img = img.resize((300,300))\n",
    "    img.save(cat_val_img)"
   ]
  },
  {
   "cell_type": "markdown",
   "metadata": {},
   "source": [
    "### Dog"
   ]
  },
  {
   "cell_type": "code",
   "execution_count": null,
   "metadata": {},
   "outputs": [],
   "source": [
    "dog_val_dir = r\"validation/Dog\"\n",
    "\n",
    "for file in os.listdir(dog_val_dir):\n",
    "    dog_val_img = dog_val_dir+\"/\"+file\n",
    "    img = Image.open(dog_val_img)"
   ]
  },
  {
   "cell_type": "code",
   "execution_count": null,
   "metadata": {},
   "outputs": [],
   "source": [
    "for file in os.listdir(dog_val_dir):\n",
    "    dog_val_img = dog_val_dir+\"/\"+file\n",
    "    img = Image.open(dog_val_img)\n",
    "    img = img.resize((300,300))\n",
    "    img.save(dog_val_img)"
   ]
  },
  {
   "cell_type": "code",
   "execution_count": 221,
   "metadata": {},
   "outputs": [
    {
     "data": {
      "text/plain": [
       "'C:\\\\Users\\\\Mucahit BAYAR\\\\Document\\\\Deep Learning\\\\Transfer_Learning'"
      ]
     },
     "execution_count": 221,
     "metadata": {},
     "output_type": "execute_result"
    }
   ],
   "source": [
    "os.getcwd()"
   ]
  },
  {
   "cell_type": "code",
   "execution_count": 16,
   "metadata": {},
   "outputs": [],
   "source": [
    "train_path = \"C:/Users/Mucahit BAYAR/Document/Deep Learning/Transfer_Learning/training\"\n",
    "test_path = \"C:/Users/Mucahit BAYAR/Document/Deep Learning/Transfer_Learning/testing\"\n",
    "val_path = \"C:/Users/Mucahit BAYAR/Document/Deep Learning/Transfer_Learning/validation\""
   ]
  },
  {
   "cell_type": "code",
   "execution_count": 17,
   "metadata": {},
   "outputs": [
    {
     "name": "stdout",
     "output_type": "stream",
     "text": [
      "Found 24998 images belonging to 2 classes.\n"
     ]
    }
   ],
   "source": [
    "train_batches = ImageDataGenerator().flow_from_directory(train_path,\n",
    "                                                        target_size=(224,224),\n",
    "                                                        batch_size=10)"
   ]
  },
  {
   "cell_type": "code",
   "execution_count": 18,
   "metadata": {},
   "outputs": [
    {
     "name": "stdout",
     "output_type": "stream",
     "text": [
      "Found 11000 images belonging to 2 classes.\n"
     ]
    }
   ],
   "source": [
    "valid_batches = ImageDataGenerator().flow_from_directory(val_path,\n",
    "                                                        target_size=(224,224),\n",
    "                                                        batch_size=30)\n",
    "                                                        "
   ]
  },
  {
   "cell_type": "code",
   "execution_count": 19,
   "metadata": {},
   "outputs": [
    {
     "name": "stdout",
     "output_type": "stream",
     "text": [
      "Found 5633 images belonging to 2 classes.\n"
     ]
    }
   ],
   "source": [
    "test_batches = ImageDataGenerator().flow_from_directory(test_path,\n",
    "                                                        target_size=(224,224),\n",
    "                                                        batch_size=50,\n",
    "                                                       shuffle= False)"
   ]
  },
  {
   "cell_type": "code",
   "execution_count": 20,
   "metadata": {},
   "outputs": [],
   "source": [
    " base_model = vgg16.VGG16(weights = \"imagenet\", include_top=False, input_shape=(224, 224, 3)) # Defining VGG16 Model"
   ]
  },
  {
   "cell_type": "code",
   "execution_count": 21,
   "metadata": {},
   "outputs": [],
   "source": [
    "for layer in base_model.layers: # Dense layer need to be frozen because of Model's weight was alreay trained for  not changed.\n",
    "    layer.trainable = False"
   ]
  },
  {
   "cell_type": "code",
   "execution_count": 22,
   "metadata": {},
   "outputs": [],
   "source": [
    "last_layer = base_model.get_layer('block5_pool') # Saving Last layer Of Based Layer to using as input\n",
    "last_output = last_layer.output"
   ]
  },
  {
   "cell_type": "code",
   "execution_count": 23,
   "metadata": {},
   "outputs": [],
   "source": [
    "x = Flatten() (last_output) # Flattened Transaction"
   ]
  },
  {
   "cell_type": "code",
   "execution_count": 24,
   "metadata": {},
   "outputs": [
    {
     "name": "stdout",
     "output_type": "stream",
     "text": [
      "Model: \"functional_1\"\n",
      "_________________________________________________________________\n",
      "Layer (type)                 Output Shape              Param #   \n",
      "=================================================================\n",
      "input_1 (InputLayer)         [(None, 224, 224, 3)]     0         \n",
      "_________________________________________________________________\n",
      "block1_conv1 (Conv2D)        (None, 224, 224, 64)      1792      \n",
      "_________________________________________________________________\n",
      "block1_conv2 (Conv2D)        (None, 224, 224, 64)      36928     \n",
      "_________________________________________________________________\n",
      "block1_pool (MaxPooling2D)   (None, 112, 112, 64)      0         \n",
      "_________________________________________________________________\n",
      "block2_conv1 (Conv2D)        (None, 112, 112, 128)     73856     \n",
      "_________________________________________________________________\n",
      "block2_conv2 (Conv2D)        (None, 112, 112, 128)     147584    \n",
      "_________________________________________________________________\n",
      "block2_pool (MaxPooling2D)   (None, 56, 56, 128)       0         \n",
      "_________________________________________________________________\n",
      "block3_conv1 (Conv2D)        (None, 56, 56, 256)       295168    \n",
      "_________________________________________________________________\n",
      "block3_conv2 (Conv2D)        (None, 56, 56, 256)       590080    \n",
      "_________________________________________________________________\n",
      "block3_conv3 (Conv2D)        (None, 56, 56, 256)       590080    \n",
      "_________________________________________________________________\n",
      "block3_pool (MaxPooling2D)   (None, 28, 28, 256)       0         \n",
      "_________________________________________________________________\n",
      "block4_conv1 (Conv2D)        (None, 28, 28, 512)       1180160   \n",
      "_________________________________________________________________\n",
      "block4_conv2 (Conv2D)        (None, 28, 28, 512)       2359808   \n",
      "_________________________________________________________________\n",
      "block4_conv3 (Conv2D)        (None, 28, 28, 512)       2359808   \n",
      "_________________________________________________________________\n",
      "block4_pool (MaxPooling2D)   (None, 14, 14, 512)       0         \n",
      "_________________________________________________________________\n",
      "block5_conv1 (Conv2D)        (None, 14, 14, 512)       2359808   \n",
      "_________________________________________________________________\n",
      "block5_conv2 (Conv2D)        (None, 14, 14, 512)       2359808   \n",
      "_________________________________________________________________\n",
      "block5_conv3 (Conv2D)        (None, 14, 14, 512)       2359808   \n",
      "_________________________________________________________________\n",
      "block5_pool (MaxPooling2D)   (None, 7, 7, 512)         0         \n",
      "_________________________________________________________________\n",
      "flatten (Flatten)            (None, 25088)             0         \n",
      "_________________________________________________________________\n",
      "FC_2 (Dense)                 (None, 64)                1605696   \n",
      "_________________________________________________________________\n",
      "batch_normalization (BatchNo (None, 64)                256       \n",
      "_________________________________________________________________\n",
      "dropout (Dropout)            (None, 64)                0         \n",
      "_________________________________________________________________\n",
      "softmax (Dense)              (None, 2)                 130       \n",
      "=================================================================\n",
      "Total params: 16,320,770\n",
      "Trainable params: 1,605,954\n",
      "Non-trainable params: 14,714,816\n",
      "_________________________________________________________________\n"
     ]
    }
   ],
   "source": [
    "x = Dense(64, activation = 'relu', name=\"FC_2\")(x) # We add new Fully Connected Layer to training for new Data set.\n",
    "x = BatchNormalization()(x) # Normalization \n",
    "x = Dropout(0.5)(x) # Tuning\n",
    "x = Dense(2, activation='softmax', name='softmax')(x) # We add Softmax Activation Because Dataset have two classes by choosing on probability.\n",
    "new_model = Model(inputs=base_model.input, outputs=x) # Add to Model\n",
    "new_model.summary() # Viewing New Model"
   ]
  },
  {
   "cell_type": "code",
   "execution_count": 25,
   "metadata": {},
   "outputs": [],
   "source": [
    "new_model.compile(Adam(lr=0.0001), loss='categorical_crossentropy', metrics=['accuracy']) # Adjusting Evaluate Metrics"
   ]
  },
  {
   "cell_type": "code",
   "execution_count": 26,
   "metadata": {},
   "outputs": [
    {
     "name": "stdout",
     "output_type": "stream",
     "text": [
      "WARNING:tensorflow:From <ipython-input-26-4a22f46781b4>:1: Model.fit_generator (from tensorflow.python.keras.engine.training) is deprecated and will be removed in a future version.\n",
      "Instructions for updating:\n",
      "Please use Model.fit, which supports generators.\n",
      "Epoch 1/20\n",
      "4/4 - 10s - loss: 1.0315 - accuracy: 0.4250 - val_loss: 2.7914 - val_accuracy: 0.6500\n",
      "Epoch 2/20\n",
      "4/4 - 8s - loss: 1.0788 - accuracy: 0.6000 - val_loss: 1.5041 - val_accuracy: 0.6167\n",
      "Epoch 3/20\n",
      "4/4 - 9s - loss: 0.7149 - accuracy: 0.6250 - val_loss: 1.1186 - val_accuracy: 0.6833\n",
      "Epoch 4/20\n",
      "4/4 - 11s - loss: 0.3939 - accuracy: 0.8500 - val_loss: 0.6728 - val_accuracy: 0.7833\n",
      "Epoch 5/20\n",
      "4/4 - 8s - loss: 0.2229 - accuracy: 0.9000 - val_loss: 0.3435 - val_accuracy: 0.8667\n",
      "Epoch 6/20\n",
      "4/4 - 8s - loss: 0.5787 - accuracy: 0.7750 - val_loss: 0.2877 - val_accuracy: 0.8833\n",
      "Epoch 7/20\n",
      "4/4 - 8s - loss: 0.3593 - accuracy: 0.8500 - val_loss: 0.3360 - val_accuracy: 0.8833\n",
      "Epoch 8/20\n",
      "4/4 - 8s - loss: 0.4347 - accuracy: 0.8000 - val_loss: 0.3926 - val_accuracy: 0.8667\n",
      "Epoch 9/20\n",
      "4/4 - 8s - loss: 0.5404 - accuracy: 0.7500 - val_loss: 0.3629 - val_accuracy: 0.8500\n",
      "Epoch 10/20\n",
      "4/4 - 8s - loss: 0.3732 - accuracy: 0.8500 - val_loss: 0.3311 - val_accuracy: 0.9000\n",
      "Epoch 11/20\n",
      "4/4 - 8s - loss: 0.3987 - accuracy: 0.8000 - val_loss: 0.2731 - val_accuracy: 0.8500\n",
      "Epoch 12/20\n",
      "4/4 - 8s - loss: 0.2971 - accuracy: 0.8750 - val_loss: 0.2239 - val_accuracy: 0.9333\n",
      "Epoch 13/20\n",
      "4/4 - 8s - loss: 0.5242 - accuracy: 0.8250 - val_loss: 0.1549 - val_accuracy: 0.9500\n",
      "Epoch 14/20\n",
      "4/4 - 8s - loss: 0.3131 - accuracy: 0.9000 - val_loss: 0.2175 - val_accuracy: 0.9500\n",
      "Epoch 15/20\n",
      "4/4 - 8s - loss: 0.4832 - accuracy: 0.9000 - val_loss: 0.2034 - val_accuracy: 0.9167\n",
      "Epoch 16/20\n",
      "4/4 - 8s - loss: 0.1689 - accuracy: 0.9000 - val_loss: 0.1633 - val_accuracy: 0.9333\n",
      "Epoch 17/20\n",
      "4/4 - 8s - loss: 0.3607 - accuracy: 0.8750 - val_loss: 0.1280 - val_accuracy: 0.9667\n",
      "Epoch 18/20\n",
      "4/4 - 8s - loss: 0.3659 - accuracy: 0.8750 - val_loss: 0.1122 - val_accuracy: 0.9500\n",
      "Epoch 19/20\n",
      "4/4 - 8s - loss: 0.0896 - accuracy: 0.9750 - val_loss: 0.2587 - val_accuracy: 0.8667\n",
      "Epoch 20/20\n",
      "4/4 - 8s - loss: 0.3491 - accuracy: 0.8000 - val_loss: 0.1890 - val_accuracy: 0.9167\n"
     ]
    },
    {
     "data": {
      "text/plain": [
       "<tensorflow.python.keras.callbacks.History at 0x1fb642bcee0>"
      ]
     },
     "execution_count": 26,
     "metadata": {},
     "output_type": "execute_result"
    }
   ],
   "source": [
    "new_model.fit_generator(train_batches, steps_per_epoch=4, validation_data = valid_batches, validation_steps=2, epochs=20, verbose=2) # Adjusting Parameters"
   ]
  },
  {
   "cell_type": "markdown",
   "metadata": {},
   "source": [
    "# Evaluate Model"
   ]
  },
  {
   "cell_type": "code",
   "execution_count": 30,
   "metadata": {},
   "outputs": [],
   "source": [
    "from sklearn.datasets import load_files\n",
    "from keras.utils import np_utils\n",
    "import numpy as np\n",
    "\n",
    "# This function's task is divide test data set into files and targets.\n",
    "def load_dataset(path):\n",
    "    data = load_files(path)\n",
    "    paths = np.array(data['filenames'])\n",
    "    targets= np_utils.to_categorical(np.array(data['target']))\n",
    "    return paths, targets\n",
    "\n",
    "test_files, test_targets = load_dataset(test_path)"
   ]
  },
  {
   "cell_type": "code",
   "execution_count": 31,
   "metadata": {},
   "outputs": [],
   "source": [
    "from keras.preprocessing import image\n",
    "from keras.applications.vgg16 import preprocess_input\n",
    "from tqdm import tqdm"
   ]
  },
  {
   "cell_type": "code",
   "execution_count": 32,
   "metadata": {},
   "outputs": [],
   "source": [
    "# This function's task is convert from image to array.\n",
    "def path_to_tensor(img_path):\n",
    "    img = image.load_img(img_path, target_size=(224, 224))\n",
    "    x = image.img_to_array(img)\n",
    "    return np.expand_dims(x, axis=0) # Expanding Dimension"
   ]
  },
  {
   "cell_type": "code",
   "execution_count": 33,
   "metadata": {},
   "outputs": [],
   "source": [
    "# This function's task is make list image as array.\n",
    "def paths_to_tensor(img_paths):\n",
    "    list_of_tensors = [path_to_tensor(img_path) for img_path in tqdm(img_paths)] # tqdm is show loading that how is Processing forward as visual\n",
    "    return np.vstack(list_of_tensors) # concatenation Array"
   ]
  },
  {
   "cell_type": "code",
   "execution_count": 34,
   "metadata": {},
   "outputs": [
    {
     "name": "stderr",
     "output_type": "stream",
     "text": [
      "100%|██████████| 5633/5633 [00:09<00:00, 593.54it/s]\n"
     ]
    }
   ],
   "source": [
    "test_tensors = preprocess_input(paths_to_tensor(test_files))"
   ]
  },
  {
   "cell_type": "code",
   "execution_count": 35,
   "metadata": {},
   "outputs": [
    {
     "name": "stdout",
     "output_type": "stream",
     "text": [
      "177/177 [==============================] - 533s 3s/step - loss: 0.1036 - accuracy: 0.9581\n",
      "\n",
      " Testing Loss: 0.1036\n",
      " Testing accuracy:0.9581\n"
     ]
    }
   ],
   "source": [
    "print(\"\\n Testing Loss: {:.4f}\\n Testing accuracy:{:.4f}\".format(*new_model.evaluate(test_tensors, test_targets))) # Look at Loss And Accuracy Score."
   ]
  },
  {
   "cell_type": "code",
   "execution_count": null,
   "metadata": {},
   "outputs": [],
   "source": [
    "# Summary"
   ]
  },
  {
   "cell_type": "code",
   "execution_count": null,
   "metadata": {},
   "outputs": [],
   "source": [
    "### We have worked on make distinguish between dog and cat,then We built Deep Learning Model with new Connected Layer , so It's classifier. We have resized image within folder and traning. We achieved 95% accuracy. It's really good score and Loss stayed low, this is also good. We ended up project by Achieving good result."
   ]
  }
 ],
 "metadata": {
  "kernelspec": {
   "display_name": "Python 3",
   "language": "python",
   "name": "python3"
  },
  "language_info": {
   "codemirror_mode": {
    "name": "ipython",
    "version": 3
   },
   "file_extension": ".py",
   "mimetype": "text/x-python",
   "name": "python",
   "nbconvert_exporter": "python",
   "pygments_lexer": "ipython3",
   "version": "3.8.3"
  }
 },
 "nbformat": 4,
 "nbformat_minor": 4
}
